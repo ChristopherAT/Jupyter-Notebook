{
 "cells": [
  {
   "cell_type": "markdown",
   "metadata": {},
   "source": [
    "# Apps analysis\n",
    "Analysis for some apps for in-app something\n",
    "\n",
    "## Data source\n",
    "Raw data can be obtained from:\n",
    "10,000 Android apps: [googleplaystore.csv](https://dq-content.s3.amazonaws.com/350/googleplaystore.csv)\n",
    "\n",
    "7,000 iOS apps: [AppleStore.cs](https://dq-content.s3.amazonaws.com/350/AppleStore.csv)"
   ]
  },
  {
   "cell_type": "code",
   "execution_count": 43,
   "metadata": {
    "collapsed": true
   },
   "outputs": [],
   "source": [
    "# explore_data() is used to print some information\n",
    "# regarding the dataset\n",
    "def explore_data(dataset, start, end, rows_and_columns=False):\n",
    "    dataset_slice = dataset[start:end]    \n",
    "    for row in dataset_slice:\n",
    "        print(row)\n",
    "        #print('\\n') # adds a new (empty) line after each row\n",
    "\n",
    "    if rows_and_columns:\n",
    "        print('Number of rows:', len(dataset))\n",
    "        print('Number of columns:', len(dataset[0]))\n",
    "def open_csv(filename):\n",
    "    return list(reader(open(filename, encoding='utf8')))"
   ]
  },
  {
   "cell_type": "code",
   "execution_count": 44,
   "metadata": {
    "collapsed": false
   },
   "outputs": [
    {
     "name": "stdout",
     "output_type": "stream",
     "text": [
      "googleplaystore.csv:\n",
      "['App', 'Category', 'Rating', 'Reviews', 'Size', 'Installs', 'Type', 'Price', 'Content Rating', 'Genres', 'Last Updated', 'Current Ver', 'Android Ver']\n",
      "['Photo Editor & Candy Camera & Grid & ScrapBook', 'ART_AND_DESIGN', '4.1', '159', '19M', '10,000+', 'Free', '0', 'Everyone', 'Art & Design', 'January 7, 2018', '1.0.0', '4.0.3 and up']\n",
      "Number of rows: 10842\n",
      "Number of columns: 13\n",
      "\n",
      "AppleStore.csv:\n",
      "['id', 'track_name', 'size_bytes', 'currency', 'price', 'rating_count_tot', 'rating_count_ver', 'user_rating', 'user_rating_ver', 'ver', 'cont_rating', 'prime_genre', 'sup_devices.num', 'ipadSc_urls.num', 'lang.num', 'vpp_lic']\n",
      "['284882215', 'Facebook', '389879808', 'USD', '0.0', '2974676', '212', '3.5', '3.5', '95.0', '4+', 'Social Networking', '37', '1', '29', '1']\n",
      "Number of rows: 7198\n",
      "Number of columns: 16\n"
     ]
    }
   ],
   "source": [
    "# Open and analyze dataset\n",
    "from csv import reader\n",
    "android_data = open_csv('googleplaystore.csv')\n",
    "apple_data = open_csv('AppleStore.csv')\n",
    "\n",
    "print('googleplaystore.csv:')\n",
    "explore_data(android_data,0,2,rows_and_columns=True)\n",
    "print('\\nAppleStore.csv:')\n",
    "explore_data(apple_data,0,2,rows_and_columns=True)"
   ]
  },
  {
   "cell_type": "code",
   "execution_count": 45,
   "metadata": {
    "collapsed": false
   },
   "outputs": [],
   "source": [
    "# delete wrong data\n",
    "if len(android_data) == 10842:\n",
    "    android_data.pop(10473)"
   ]
  },
  {
   "cell_type": "code",
   "execution_count": 46,
   "metadata": {
    "collapsed": false
   },
   "outputs": [
    {
     "name": "stdout",
     "output_type": "stream",
     "text": [
      "Number of duplicate apps: 1181\n",
      "Examples of duplicates apps: ['Quick PDF Scanner + OCR FREE', 'Box', 'Google My Business', 'ZOOM Cloud Meetings', 'join.me - Simple Meetings', 'Box', 'Zenefits', 'Google Ads', 'Google My Business', 'Slack', 'FreshBooks Classic', 'Insightly CRM', 'QuickBooks Accounting: Invoicing & Expenses', 'HipChat - Chat Built for Teams', 'Xero Accounting Software']\n",
      "Examples of duplicates entries:\n",
      "Facebook:\n",
      "['Facebook', 'SOCIAL', '4.1', '78158306', 'Varies with device', '1,000,000,000+', 'Free', '0', 'Teen', 'Social', 'August 3, 2018', 'Varies with device', 'Varies with device']\n",
      "['Facebook', 'SOCIAL', '4.1', '78128208', 'Varies with device', '1,000,000,000+', 'Free', '0', 'Teen', 'Social', 'August 3, 2018', 'Varies with device', 'Varies with device']\n",
      "\n",
      "Instagram:\n",
      "['Instagram', 'SOCIAL', '4.5', '66577313', 'Varies with device', '1,000,000,000+', 'Free', '0', 'Teen', 'Social', 'July 31, 2018', 'Varies with device', 'Varies with device']\n",
      "['Instagram', 'SOCIAL', '4.5', '66577446', 'Varies with device', '1,000,000,000+', 'Free', '0', 'Teen', 'Social', 'July 31, 2018', 'Varies with device', 'Varies with device']\n",
      "['Instagram', 'SOCIAL', '4.5', '66577313', 'Varies with device', '1,000,000,000+', 'Free', '0', 'Teen', 'Social', 'July 31, 2018', 'Varies with device', 'Varies with device']\n",
      "['Instagram', 'SOCIAL', '4.5', '66509917', 'Varies with device', '1,000,000,000+', 'Free', '0', 'Teen', 'Social', 'July 31, 2018', 'Varies with device', 'Varies with device']\n",
      "\n",
      "Clash of Clans:\n",
      "['Clash of Clans', 'GAME', '4.6', '44891723', '98M', '100,000,000+', 'Free', '0', 'Everyone 10+', 'Strategy', 'July 15, 2018', '10.322.16', '4.1 and up']\n",
      "['Clash of Clans', 'GAME', '4.6', '44891723', '98M', '100,000,000+', 'Free', '0', 'Everyone 10+', 'Strategy', 'July 15, 2018', '10.322.16', '4.1 and up']\n",
      "['Clash of Clans', 'GAME', '4.6', '44893888', '98M', '100,000,000+', 'Free', '0', 'Everyone 10+', 'Strategy', 'July 15, 2018', '10.322.16', '4.1 and up']\n",
      "['Clash of Clans', 'FAMILY', '4.6', '44881447', '98M', '100,000,000+', 'Free', '0', 'Everyone 10+', 'Strategy', 'July 15, 2018', '10.322.16', '4.1 and up']\n"
     ]
    }
   ],
   "source": [
    "#Check dataset for duplicate by name\n",
    "# count duplicate\n",
    "duplicate_apps=[]\n",
    "unique_apps=[]\n",
    "\n",
    "for app in android_data[1:]:\n",
    "    name = app[0]\n",
    "    if name in unique_apps:\n",
    "        duplicate_apps.append(name)\n",
    "    else:\n",
    "        unique_apps.append(name)\n",
    "        \n",
    "print('Number of duplicate apps:', len(duplicate_apps))\n",
    "print('Examples of duplicates apps:', duplicate_apps[:15])\n",
    "print('Examples of duplicates entries:')\n",
    "\n",
    "print('Facebook:')\n",
    "for app in android_data:\n",
    "    name = app[0]\n",
    "    if name == 'Facebook':\n",
    "        print(app)\n",
    "\n",
    "print('\\nInstagram:')\n",
    "for app in android_data:\n",
    "    name = app[0]\n",
    "    if name == 'Instagram':\n",
    "        print(app)\n",
    "\n",
    "print('\\nClash of Clans:')\n",
    "for app in android_data:\n",
    "    name = app[0]\n",
    "    if name == 'Clash of Clans':\n",
    "        print(app)"
   ]
  },
  {
   "cell_type": "markdown",
   "metadata": {},
   "source": [
    "From above sample, we can say that the duplicate have a lot in common. The difference are the review count and categories. We can remove duplicates based on review count, take only the newer data (the one with highest review count)."
   ]
  },
  {
   "cell_type": "code",
   "execution_count": 47,
   "metadata": {
    "collapsed": false
   },
   "outputs": [
    {
     "name": "stdout",
     "output_type": "stream",
     "text": [
      "Number of unique: 9659\n"
     ]
    }
   ],
   "source": [
    "reviews_max={}\n",
    "for app in android_data[1:]:\n",
    "    name = app[0]\n",
    "    n_review = float(app[3])\n",
    "    if name in reviews_max:\n",
    "        if reviews_max[name]<n_review:\n",
    "            reviews_max[name]=n_review\n",
    "    else:\n",
    "        reviews_max[name]=n_review\n",
    "print('Number of unique:', len(reviews_max))\n",
    "            "
   ]
  },
  {
   "cell_type": "code",
   "execution_count": 48,
   "metadata": {
    "collapsed": false
   },
   "outputs": [
    {
     "name": "stdout",
     "output_type": "stream",
     "text": [
      "Number of data cleaned: 9659\n"
     ]
    }
   ],
   "source": [
    "android_clean=[]\n",
    "already_added=[]\n",
    "\n",
    "for app in android_data[1:]:\n",
    "    name = app[0]\n",
    "    n_review = float(app[3])\n",
    "    if n_review == reviews_max[name]:\n",
    "        if name not in already_added:\n",
    "            android_clean.append(app)\n",
    "            already_added.append(name)\n",
    "print('Number of data cleaned:',len(android_clean))"
   ]
  },
  {
   "cell_type": "code",
   "execution_count": 50,
   "metadata": {
    "collapsed": false
   },
   "outputs": [],
   "source": [
    "def isEnglishName(name,limit=3):\n",
    "    nonEng=0\n",
    "    for letter in name:\n",
    "        if ord(letter)>127:\n",
    "            nonEng+=1\n",
    "    if nonEng>=limit:\n",
    "        return False\n",
    "    else:\n",
    "        return True"
   ]
  },
  {
   "cell_type": "code",
   "execution_count": 52,
   "metadata": {
    "collapsed": false
   },
   "outputs": [
    {
     "name": "stdout",
     "output_type": "stream",
     "text": [
      "Truyện Vui Tý Quậy\n",
      "Flame - درب عقلك يوميا\n",
      "At home - rental · real estate · room finding application such as apartment · apartment\n",
      "乐屋网: Buying a house, selling a house, renting a house\n",
      "သိင်္ Astrology - Min Thein Kha BayDin\n",
      "РИА Новости\n",
      "乗換NAVITIME　Timetable & Route Search in Japan Tokyo\n",
      "► MultiCraft ― Free Miner! 👍\n",
      "صور حرف H\n",
      "L.POINT - 엘포인트 [ 포인트, 멤버십, 적립, 사용, 모바일 카드, 쿠폰, 롯데]\n",
      "M3-X5-X6-M-İ3-İ8 RACİNG 2018\n",
      "RMEduS - 음성인식을 활용한 R 프로그래밍 실습 시스템\n",
      "AJ렌터카 법인 카셰어링\n",
      "Al Quran Free - القرآن (Islam)\n",
      "中国語 AQリスニング\n",
      "Neuvaines et prières au Coeur Sacré de Jésus\n",
      "日本AV历史\n",
      "Ay Yıldız Duvar Kağıtları\n",
      "বাংলা টিভি প্রো BD Bangla TV\n",
      "Cъновник BG\n",
      "CSCS BG (в български)\n",
      "뽕티비 - 개인방송, 인터넷방송, BJ방송\n",
      "BL 女性向け恋愛ゲーム◆俺プリクロス\n",
      "SecondSecret ‐「恋を読む」BLノベルゲーム‐\n",
      "BL 女性向け恋愛ゲーム◆ごくメン\n",
      "あなカレ【BL】無料ゲーム\n",
      "감성학원 BL 첫사랑\n",
      "BQ-መጽሐፍ ቅዱሳዊ ጥያቄዎች\n",
      "BS Calendar / Patro / पात्रो\n",
      "Vip视频免费看-BT磁力搜索\n",
      "Билеты ПДД CD 2019 PRO\n",
      "РееI Smart Remote MP3 CD Player\n",
      "Offline Jízdní řády CG Transit\n",
      "Bonjour 2017 Abidjan CI ❤❤❤❤❤\n",
      "CK 初一 十五\n",
      "📏 Smart Ruler ↔️ cm/inch measuring for homework!\n",
      "الفاتحون Conquerors\n",
      "Hlášenírozhlasu.cz\n",
      "Modlitební knížka CZ\n",
      "DG ग्राम / Digital Gram Panchayat\n",
      "Lep's World 3 🍀🍀🍀\n",
      "DM הפקות\n",
      "DW فارسی By dw-arab.com\n",
      "Météo Algérie DZ\n",
      "لعبة تقدر تربح DZ\n",
      "বাংলাflix\n",
      "RPG ブレイジング ソウルズ アクセレイト\n",
      "英漢字典 EC Dictionary\n",
      "ECナビ×シュフー\n",
      "أحداث وحقائق | خبر عاجل في اخبار العالم\n",
      "EG SIM CARD (EGSIMCARD, 이지심카드)\n",
      "パーリーゲイツ公式通販｜EJ STYLE（イージェイスタイル）\n",
      "FAHREDDİN er-RÂZİ TEFSİRİ\n",
      "Égalité et Réconciliation\n",
      "I'm Rich/Eu sou Rico/أنا غني/我很有錢\n",
      "AÖF Ev İdaresi 1. Sınıf\n",
      "Ey Sey Storytime រឿងនិទានតាឥសី\n",
      "哈哈姆特不EY\n",
      "CNY Slots : Gong Xi Fa Cai 发财机\n",
      "My AEK - Official ΑΕΚ FC app\n",
      "Sona - Nær við allastaðni\n",
      "FP Разбитый дисплей\n"
     ]
    }
   ],
   "source": [
    "# Take english only apps\n",
    "android_clean_eng=[]\n",
    "for app in android_clean:\n",
    "    name = app[0]\n",
    "    if isEnglishName(name):\n",
    "        android_clean_eng.append(app)\n",
    "    else:\n",
    "        print(name)"
   ]
  },
  {
   "cell_type": "code",
   "execution_count": 56,
   "metadata": {
    "collapsed": false
   },
   "outputs": [
    {
     "name": "stdout",
     "output_type": "stream",
     "text": [
      "9597\n"
     ]
    }
   ],
   "source": [
    "print(len(android_clean_eng))"
   ]
  },
  {
   "cell_type": "code",
   "execution_count": 59,
   "metadata": {
    "collapsed": false
   },
   "outputs": [
    {
     "name": "stdout",
     "output_type": "stream",
     "text": [
      "8847\n"
     ]
    }
   ],
   "source": [
    "# Take free only app\n",
    "android_clean_eng_free=[]\n",
    "for app in android_clean_eng:\n",
    "    price = app[6]\n",
    "    if price == 'Free':\n",
    "        android_clean_eng_free.append(app)\n",
    "print(len(android_clean_eng_free))"
   ]
  },
  {
   "cell_type": "markdown",
   "metadata": {},
   "source": [
    "## Finding app profile"
   ]
  },
  {
   "cell_type": "code",
   "execution_count": 60,
   "metadata": {
    "collapsed": true
   },
   "outputs": [],
   "source": [
    "def freq_table(dataset, index):\n",
    "    freq={}\n",
    "    for data in dataset:\n",
    "        data_point = data[index]\n",
    "        if data_point in freq:\n",
    "            freq[data_point]+=1\n",
    "        else:\n",
    "            freq[data_point]=1\n",
    "    return freq\n",
    "\n",
    "def display_table(dataset, index):\n",
    "    table = freq_table(dataset, index)\n",
    "    table_display = []\n",
    "    for key in table:\n",
    "        key_val_as_tuple = (table[key], key)\n",
    "        table_display.append(key_val_as_tuple)\n",
    "\n",
    "    table_sorted = sorted(table_display, reverse = True)\n",
    "    for entry in table_sorted:\n",
    "        print(entry[1], ':', entry[0])"
   ]
  },
  {
   "cell_type": "markdown",
   "metadata": {},
   "source": [
    "['App', 'Category', 'Rating', 'Reviews', 'Size', 'Installs', 'Type', 'Price', 'Content Rating', 'Genres', 'Last Updated', 'Current Ver', 'Android Ver']"
   ]
  },
  {
   "cell_type": "code",
   "execution_count": 62,
   "metadata": {
    "collapsed": false
   },
   "outputs": [
    {
     "name": "stdout",
     "output_type": "stream",
     "text": [
      "Tools : 747\n",
      "Entertainment : 538\n",
      "Education : 474\n",
      "Business : 407\n",
      "Productivity : 345\n",
      "Lifestyle : 343\n",
      "Finance : 328\n",
      "Medical : 313\n",
      "Sports : 306\n",
      "Personalization : 294\n",
      "Communication : 286\n",
      "Action : 274\n",
      "Health & Fitness : 273\n",
      "Photography : 261\n",
      "News & Magazines : 248\n",
      "Social : 236\n",
      "Travel & Local : 206\n",
      "Shopping : 199\n",
      "Books & Reference : 189\n",
      "Simulation : 181\n",
      "Dating : 165\n",
      "Arcade : 163\n",
      "Video Players & Editors : 157\n",
      "Casual : 156\n",
      "Maps & Navigation : 123\n",
      "Food & Drink : 110\n",
      "Puzzle : 100\n",
      "Racing : 88\n",
      "Role Playing : 83\n",
      "Libraries & Demo : 83\n",
      "Auto & Vehicles : 82\n",
      "Strategy : 80\n",
      "House & Home : 71\n",
      "Weather : 70\n",
      "Events : 63\n",
      "Adventure : 59\n",
      "Comics : 53\n",
      "Beauty : 53\n",
      "Art & Design : 53\n",
      "Parenting : 44\n",
      "Card : 40\n",
      "Trivia : 37\n",
      "Casino : 37\n",
      "Educational;Education : 35\n",
      "Board : 34\n",
      "Educational : 33\n",
      "Education;Education : 30\n",
      "Word : 23\n",
      "Casual;Pretend Play : 21\n",
      "Music : 18\n",
      "Racing;Action & Adventure : 15\n",
      "Puzzle;Brain Games : 15\n",
      "Entertainment;Music & Video : 15\n",
      "Casual;Brain Games : 12\n",
      "Casual;Action & Adventure : 12\n",
      "Arcade;Action & Adventure : 11\n",
      "Action;Action & Adventure : 9\n",
      "Educational;Pretend Play : 8\n",
      "Simulation;Action & Adventure : 7\n",
      "Parenting;Education : 7\n",
      "Entertainment;Brain Games : 7\n",
      "Board;Brain Games : 7\n",
      "Parenting;Music & Video : 6\n",
      "Educational;Brain Games : 6\n",
      "Casual;Creativity : 6\n",
      "Art & Design;Creativity : 6\n",
      "Education;Pretend Play : 5\n",
      "Role Playing;Pretend Play : 4\n",
      "Education;Creativity : 4\n",
      "Role Playing;Action & Adventure : 3\n",
      "Puzzle;Action & Adventure : 3\n",
      "Entertainment;Creativity : 3\n",
      "Entertainment;Action & Adventure : 3\n",
      "Educational;Creativity : 3\n",
      "Educational;Action & Adventure : 3\n",
      "Education;Music & Video : 3\n",
      "Education;Brain Games : 3\n",
      "Education;Action & Adventure : 3\n",
      "Adventure;Action & Adventure : 3\n",
      "Video Players & Editors;Music & Video : 2\n",
      "Sports;Action & Adventure : 2\n",
      "Simulation;Pretend Play : 2\n",
      "Puzzle;Creativity : 2\n",
      "Music;Music & Video : 2\n",
      "Entertainment;Pretend Play : 2\n",
      "Casual;Education : 2\n",
      "Board;Action & Adventure : 2\n",
      "Video Players & Editors;Creativity : 1\n",
      "Trivia;Education : 1\n",
      "Travel & Local;Action & Adventure : 1\n",
      "Tools;Education : 1\n",
      "Strategy;Education : 1\n",
      "Strategy;Creativity : 1\n",
      "Strategy;Action & Adventure : 1\n",
      "Simulation;Education : 1\n",
      "Role Playing;Brain Games : 1\n",
      "Racing;Pretend Play : 1\n",
      "Puzzle;Education : 1\n",
      "Parenting;Brain Games : 1\n",
      "Music & Audio;Music & Video : 1\n",
      "Lifestyle;Pretend Play : 1\n",
      "Lifestyle;Education : 1\n",
      "Health & Fitness;Education : 1\n",
      "Health & Fitness;Action & Adventure : 1\n",
      "Entertainment;Education : 1\n",
      "Communication;Creativity : 1\n",
      "Comics;Creativity : 1\n",
      "Casual;Music & Video : 1\n",
      "Card;Action & Adventure : 1\n",
      "Books & Reference;Education : 1\n",
      "Art & Design;Pretend Play : 1\n",
      "Art & Design;Action & Adventure : 1\n",
      "Arcade;Pretend Play : 1\n",
      "Adventure;Education : 1\n"
     ]
    }
   ],
   "source": [
    "genre=9\n",
    "category=1\n",
    "display_table(android_clean_eng_free,genre)"
   ]
  },
  {
   "cell_type": "code",
   "execution_count": 63,
   "metadata": {
    "collapsed": false
   },
   "outputs": [
    {
     "name": "stdout",
     "output_type": "stream",
     "text": [
      "FAMILY : 1675\n",
      "GAME : 858\n",
      "TOOLS : 748\n",
      "BUSINESS : 407\n",
      "PRODUCTIVITY : 345\n",
      "LIFESTYLE : 344\n",
      "FINANCE : 328\n",
      "MEDICAL : 313\n",
      "SPORTS : 300\n",
      "PERSONALIZATION : 294\n",
      "COMMUNICATION : 286\n",
      "HEALTH_AND_FITNESS : 273\n",
      "PHOTOGRAPHY : 261\n",
      "NEWS_AND_MAGAZINES : 248\n",
      "SOCIAL : 236\n",
      "TRAVEL_AND_LOCAL : 207\n",
      "SHOPPING : 199\n",
      "BOOKS_AND_REFERENCE : 189\n",
      "DATING : 165\n",
      "VIDEO_PLAYERS : 159\n",
      "MAPS_AND_NAVIGATION : 123\n",
      "FOOD_AND_DRINK : 110\n",
      "EDUCATION : 103\n",
      "ENTERTAINMENT : 85\n",
      "LIBRARIES_AND_DEMO : 83\n",
      "AUTO_AND_VEHICLES : 82\n",
      "HOUSE_AND_HOME : 71\n",
      "WEATHER : 70\n",
      "EVENTS : 63\n",
      "PARENTING : 58\n",
      "ART_AND_DESIGN : 57\n",
      "COMICS : 54\n",
      "BEAUTY : 53\n"
     ]
    }
   ],
   "source": [
    "display_table(android_clean_eng_free,category)"
   ]
  },
  {
   "cell_type": "code",
   "execution_count": null,
   "metadata": {
    "collapsed": true
   },
   "outputs": [],
   "source": []
  }
 ],
 "metadata": {
  "kernelspec": {
   "display_name": "Python 3",
   "language": "python",
   "name": "python3"
  },
  "language_info": {
   "codemirror_mode": {
    "name": "ipython",
    "version": 3
   },
   "file_extension": ".py",
   "mimetype": "text/x-python",
   "name": "python",
   "nbconvert_exporter": "python",
   "pygments_lexer": "ipython3",
   "version": "3.4.3"
  }
 },
 "nbformat": 4,
 "nbformat_minor": 2
}
